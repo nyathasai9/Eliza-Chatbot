{
 "cells": [
  {
   "cell_type": "markdown",
   "id": "e17c3884",
   "metadata": {},
   "source": [
    "### ELIZA Chat Bot "
   ]
  },
  {
   "cell_type": "markdown",
   "id": "a66cf4cc",
   "metadata": {},
   "source": [
    "#### Objective\n",
    "##### To gain experience with the Python programming language, in particular the use of regular expressions in order to do \"word spotting\" and transform sentences from answers into questions. To gain an appreciation for the difficulties of natural language processing in general."
   ]
  },
  {
   "cell_type": "code",
   "execution_count": 1,
   "id": "479c34e7",
   "metadata": {},
   "outputs": [],
   "source": [
    "# #### Examples \n",
    "# > how/How are you? ----> I'm fine, thank you.\n",
    "# > I/i need help ----> Why and what for, do you need help? \n",
    "#                       (or) Would it really be useful if you got help?\n",
    "#                       (or) Are you certain you require help?\n",
    "# > I/i am happy ----> Are you here as you are happy?\n",
    "#                       (or) Why do you think you are happy?\n",
    "#                       (or) What is making you happy?\n",
    "# > I/i think a lot ----> What makes you think that?\n",
    "#                       (or) Are you sure?\n",
    "#                       (or) You think a lot because of?\n",
    "# > I/i feel sad ----> Could you elaborate about this?\n",
    "#                       (or) On a scale of 1-10 how strong is this feeling of sad?\n",
    "#                       (or) How often do you usually feel sad?\n",
    "#                       (or) Since when are you feeling this sad?\n",
    "# > I/i have been upset ----> How do you feel since you have been upset?\n",
    "#                       (or) Why do you have been upset?\n",
    "#                       (or) How often do you usually feel sad?\n",
    "#                       (or) Keeping in mind that you have been upset, what has changed?\n",
    "# > I/i would love to shop ----> Could you explain why you would love to shop?\n",
    "#                       (or) Why would you love to shop?\n",
    "#                       (or) Who else knows that you would love to shop?\n",
    "# > I/i want peace ----> What would it mean to you if you got peace?\n",
    "#                       (or) Why do you want peace?\n",
    "#                       (or) What would you do if you got peace?\n",
    "#                       (or) If you got peace, then what would you do?\n",
    "# > I/i don't/dont want peace ----> Are you sure about this?\n",
    "#                       (or) Why don't you want peace?\n",
    "#                       (or) Do you want to not peace?\n",
    "# > I/i can't/cant work hard ----> Why are you so sure you can't work hard?\n",
    "#                       (or) If you tried harder maybe you could work hard\n",
    "#                       (or) What motivation do you need to work hard?\n",
    "# Because/because I am not interested ----> Is that the real reason?\n",
    "#                       (or) Can you think of any more reasons?\n",
    "#                       (or) It may or may not be true.\n",
    "#                       (or) Are you planning to overcome that?\n",
    "# Yes/yes ----> You seem quite sure.\n",
    "#               (or) OK, but how are you so sure?\n",
    "# No/no ----> Why not?\n",
    "# Can you help? ----> What makes you think I can't help?\n",
    "#                     (or) If I could help, then what?\n",
    "#                     (or) Why do you ask if I can help?\n",
    "# Can I work?  ----> Perhaps you don't want to work.\n",
    "#                    (or) Do you want to be able to work?\n",
    "#                    (or) If you could work, would you?\n",
    "# Anything random ----> Please tell me more.\n",
    "#                       (or) Let's change focus a bit... Tell me about your family.\n",
    "#                       (or) Can you elaborate on that?\n",
    "#                       (or) Why do you say that?\n",
    "#                       (or) I see.\n",
    "#                       (or) Very interesting.\n",
    "#                       (or) I see.  And what does that tell you?\n",
    "#                       (or) How does that make you feel?\n",
    "#                       (or) How do you feel when you say that?\n",
    "# Quit/quit ----> Thank you for talking with me.\n",
    "#                 (or) Good-bye.\n",
    "#                 (or) Looking forward to talking with you again\n",
    "#                 (or) Thank you.  Hope you have a good day!"
   ]
  },
  {
   "cell_type": "markdown",
   "id": "ac9597c4",
   "metadata": {
    "heading_collapsed": true
   },
   "source": [
    "#### Imports "
   ]
  },
  {
   "cell_type": "code",
   "execution_count": 2,
   "id": "a2b07607",
   "metadata": {
    "hidden": true
   },
   "outputs": [],
   "source": [
    "# importing regex and random module which is used to select a value at random from list\n",
    "import re\n",
    "import random"
   ]
  },
  {
   "cell_type": "markdown",
   "id": "a7350216",
   "metadata": {},
   "source": [
    "#### Dictionary of Responses"
   ]
  },
  {
   "cell_type": "code",
   "execution_count": 3,
   "id": "02e0f381",
   "metadata": {},
   "outputs": [],
   "source": [
    "# declaring a dictionary of responses for few general statements\n",
    "qes_ans = {'[Hh]ow are you?': [r\"I'm fine, thank you.\"],\n",
    "           \n",
    "           \"[Ii] need (.*)\" : [r\"Why and what for, do you need \\1?\",\n",
    "                               r\"Would it really be useful if you got \\1?\",\n",
    "                               r\"Are you certain you require \\1?\"\n",
    "                              ],\n",
    "           \n",
    "           \"[Ii] am (.*)\"   : [r\"Are you here as you are \\1?\",\n",
    "                               r\"Why do you think you are \\1?\",\n",
    "                               r\"What is making you \\1?\"\n",
    "                              ],\n",
    "           \n",
    "           \"[Ii] think (.*)\": [r\"What makes you think that?\",\n",
    "                               r\"Are you sure?\",\n",
    "                               r\"You think \\1 because of?\"\n",
    "                              ],\n",
    "           \n",
    "           \"[Ii] feel (.*)\" : [r\"Could you elaborate about this?\",\n",
    "                               r\"On a scale of 1-10 how strong is this feeling of \\1?\",\n",
    "                               r\"How often do you usually feel \\1?\",\n",
    "                               r\"Since when are you feeling this \\1?\"\n",
    "                              ],\n",
    "           \n",
    "           \"[Ii] have (.*)\" : [r\"How do you feel since you have \\1?\",\n",
    "                               r\"Why do you have \\1?\",\n",
    "                               r\"Keeping in mind that you have \\1, what has changed?\"\n",
    "                              ],\n",
    "           \n",
    "           \"[Ii] would (.*)\": [r\"Could you explain why you would \\1?\",\n",
    "                               r\"Why would you \\1?\",\n",
    "                               r\"Who else knows that you would \\1?\"\n",
    "                              ],\n",
    "           \n",
    "           \"[Ii] want (.*)\" : [r\"What would it mean to you if you got \\1?\",\n",
    "                               r\"Why do you want \\1?\",\n",
    "                               r\"What would you do if you got \\1?\",\n",
    "                               r\"If you got \\1, then what would you do?\"\n",
    "                              ],\n",
    "           \n",
    "           \"[Ii] (don't|dont) (.*)\": [r\"Are you sure about this?\",\n",
    "                                      r\"Why don't you want \\2?\",\n",
    "                                      r\"Do you want to not\\2?\"\n",
    "                                     ],\n",
    "           \n",
    "           \"[Ii] (can't|cant) (.*)\": [r\"Why are you so sure you can't \\2?\",\n",
    "                                      r\"If you tried harder maybe you could \\2\",\n",
    "                                      r\"What motivation do you need to \\2?\"\n",
    "                                     ],\n",
    "           \n",
    "           \"[Bb]ecause (.*)\": [r\"Is that the real reason?\", \n",
    "                               r\"Can you think of any more reasons?\", \n",
    "                               r\"It may or may not be true.\",\n",
    "                               r\"Are you planning to overcome that?\"\n",
    "                              ],\n",
    "           \n",
    "           \"\\b[Yy]es\\b\"         : [r\"You seem quite sure.\",\n",
    "                               r\"OK, but how are you so sure?\"],\n",
    "           \n",
    "           \"\\b[Nn]o\\b\"          : [r\"Why not?\"],\n",
    "           \n",
    "           \"Can you (.*)\": [r\"What makes you think I can't \\1?\", \n",
    "                            r\"If I could \\1, then what?\", \n",
    "                            r\"Why do you ask if I can \\1?\"],\n",
    "           \n",
    "           \"Can I (.*)\"  : [r\"Perhaps you don't want to \\1.\", \n",
    "                            r\"Do you want to be able to \\1?\",\n",
    "                            r\"If you could \\1, would you?\"],\n",
    "           \n",
    "           \"(.+)\"        : [r\"Please tell me more.\",\n",
    "                            r\"Let's change focus a bit... Tell me about your family.\",\n",
    "                            r\"Can you elaborate on that?\",\n",
    "                            r\"Why do you say that\",\n",
    "                            r\"I see.\",\n",
    "                            r\"Very interesting.\",\n",
    "                            r\"I see.  And what does that tell you?\",\n",
    "                            r\"How does that make you feel?\",\n",
    "                            r\"How do you feel when you say that?\"\n",
    "                           ],\n",
    "           \n",
    "          \"[Qq]uit\"      : [r\"Thank you for talking with me.\",\n",
    "                            r\"Good-bye.\",\n",
    "                            r\"Looking forward to talking with you again\",\n",
    "                            r\"Thank you.  Hope you have a good day!\"\n",
    "                           ],\n",
    "          }"
   ]
  },
  {
   "cell_type": "markdown",
   "id": "60aee4e9",
   "metadata": {
    "heading_collapsed": true
   },
   "source": [
    "#### Function which returns the response"
   ]
  },
  {
   "cell_type": "code",
   "execution_count": 4,
   "id": "385073b8",
   "metadata": {
    "hidden": true
   },
   "outputs": [],
   "source": [
    "# function response which takes input and matches with all the keys in the dictionay and replaces with the value\n",
    "def response(sen):\n",
    "# iterating throught the dictionary\n",
    "    for key, val in qes_ans.items():\n",
    "# finding the match with keys in dictionary\n",
    "        match = re.match(key, sen)\n",
    "# checking if there is match\n",
    "        if match is not None:\n",
    "# if there is a match then replacing it with one of the random response from the list with the help of random module\n",
    "            res = re.sub(key, random.choice(val), sen)\n",
    "            return res"
   ]
  },
  {
   "cell_type": "markdown",
   "id": "cd323a24",
   "metadata": {},
   "source": [
    "#### Main Program "
   ]
  },
  {
   "cell_type": "code",
   "execution_count": null,
   "id": "2d144936",
   "metadata": {},
   "outputs": [
    {
     "name": "stdout",
     "output_type": "stream",
     "text": [
      "Hello.  How are you feeling today?\n",
      ">fsgsgsgs\n",
      "Please tell me more.\n",
      ">hhhh\n",
      "How does that make you feel?\n",
      ">hhhhhhh\n",
      "How do you feel when you say that?\n",
      ">jjjjj\n",
      "How does that make you feel?\n"
     ]
    }
   ],
   "source": [
    "# Main Program\n",
    "print(\"Hello.  How are you feeling today?\")\n",
    "sentence = \"\"\n",
    "# running a loop until the user inputs quit and by default taking an empty statement\n",
    "while sentence != \"quit\":\n",
    "# taking input from user    \n",
    "    sentence = input(\">\")\n",
    "# checking if the statement is ending with a dot or exclamation and removing it    \n",
    "    if sentence[-1] in \"!.\":\n",
    "        sentence = sentence[:-1]\n",
    "#  calling the response function which checks the dictionay and gives the exact response        \n",
    "    print(response(sentence))"
   ]
  },
  {
   "cell_type": "code",
   "execution_count": null,
   "id": "e31fcf35",
   "metadata": {},
   "outputs": [],
   "source": []
  },
  {
   "cell_type": "code",
   "execution_count": null,
   "id": "55cdfcb8",
   "metadata": {},
   "outputs": [],
   "source": []
  }
 ],
 "metadata": {
  "kernelspec": {
   "display_name": "Python 3 (ipykernel)",
   "language": "python",
   "name": "python3"
  },
  "language_info": {
   "codemirror_mode": {
    "name": "ipython",
    "version": 3
   },
   "file_extension": ".py",
   "mimetype": "text/x-python",
   "name": "python",
   "nbconvert_exporter": "python",
   "pygments_lexer": "ipython3",
   "version": "3.9.7"
  },
  "latex_envs": {
   "LaTeX_envs_menu_present": true,
   "autoclose": false,
   "autocomplete": true,
   "bibliofile": "biblio.bib",
   "cite_by": "apalike",
   "current_citInitial": 1,
   "eqLabelWithNumbers": true,
   "eqNumInitial": 1,
   "hotkeys": {
    "equation": "Ctrl-E",
    "itemize": "Ctrl-I"
   },
   "labels_anchors": false,
   "latex_user_defs": false,
   "report_style_numbering": false,
   "user_envs_cfg": false
  },
  "varInspector": {
   "cols": {
    "lenName": 16,
    "lenType": 16,
    "lenVar": 40
   },
   "kernels_config": {
    "python": {
     "delete_cmd_postfix": "",
     "delete_cmd_prefix": "del ",
     "library": "var_list.py",
     "varRefreshCmd": "print(var_dic_list())"
    },
    "r": {
     "delete_cmd_postfix": ") ",
     "delete_cmd_prefix": "rm(",
     "library": "var_list.r",
     "varRefreshCmd": "cat(var_dic_list()) "
    }
   },
   "types_to_exclude": [
    "module",
    "function",
    "builtin_function_or_method",
    "instance",
    "_Feature"
   ],
   "window_display": false
  }
 },
 "nbformat": 4,
 "nbformat_minor": 5
}
